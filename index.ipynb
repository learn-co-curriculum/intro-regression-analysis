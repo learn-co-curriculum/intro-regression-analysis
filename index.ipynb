{
 "cells": [
  {
   "cell_type": "markdown",
   "metadata": {},
   "source": [
    "# Instant Linear Regression"
   ]
  },
  {
   "cell_type": "markdown",
   "metadata": {},
   "source": [
    "### Reviewing our technique"
   ]
  },
  {
   "cell_type": "markdown",
   "metadata": {},
   "source": [
    "It's time to see our machine learning process work with a new technique: Linear Regression.  Remember that we  described our machine learning process as the following:\n",
    "\n",
    "* **Collect**: Gather and clean the relevant data\n",
    "* **Explore**: Explore the data\n",
    "* **Train**: Choose an statistical or machine learning model (ie. a tool or algorithm) and optimize the model for some criteria (eg. how well the model predicts our data)\n",
    "* **Predict**: Make predictions with the trained model"
   ]
  },
  {
   "cell_type": "markdown",
   "metadata": {},
   "source": [
    "Linear regression is a supervised machine learning learning algroithm.  And in **training** the machine learning algorithm we do the following:\n",
    "\n",
    "* **Labeled Training Data**\n",
    "* **Train machine learning model**\n",
    "* **Model Predicts Unknown**"
   ]
  },
  {
   "cell_type": "markdown",
   "metadata": {},
   "source": [
    "Let's see how this relates to linear regression."
   ]
  },
  {
   "cell_type": "markdown",
   "metadata": {},
   "source": [
    "#### Labeled training data"
   ]
  },
  {
   "cell_type": "markdown",
   "metadata": {},
   "source": [
    "The scatter plot below shows how a plot of actual movie data of past movies."
   ]
  },
  {
   "cell_type": "markdown",
   "metadata": {},
   "source": [
    "![](./movie-plot.png)"
   ]
  },
  {
   "cell_type": "markdown",
   "metadata": {},
   "source": [
    "We don't have to interpret this data too deeply at this point, just as long as we understand the following:\n",
    "\n",
    "* The further to the right a point is, the higher a movie's budget.  \n",
    "* The higher vertically a point is, the larger the movie's revenue.   "
   ]
  },
  {
   "cell_type": "markdown",
   "metadata": {},
   "source": [
    "So we can see a trend in this data.  In general, the larger a movie's budget, the larger it's revenue.  "
   ]
  },
  {
   "cell_type": "markdown",
   "metadata": {},
   "source": [
    "#### Our linear regression model"
   ]
  },
  {
   "cell_type": "markdown",
   "metadata": {},
   "source": [
    "Now, when we say linear regression model we just mean a line that models the relationship between variables - here our movie budget and the movie revenue. "
   ]
  },
  {
   "cell_type": "markdown",
   "metadata": {},
   "source": [
    "![](./regression.png)"
   ]
  },
  {
   "cell_type": "markdown",
   "metadata": {
    "collapsed": true
   },
   "source": [
    "What makes this line powerful, is that it can be used to predict new movie revenues.  For example, if we want to see what our model predicts when a movie's budget is 150 million, we simply look at how high the orange line is when we see the 150 marker -- it looks like the line is indicating revenue around 280 million."
   ]
  },
  {
   "cell_type": "markdown",
   "metadata": {},
   "source": [
    "Now training the model involves assuming that if our model does a *better* job of reflecting the relationship between budget and revenue of previous movies, then it will do a better job of predicting the revenue of future movies based on this same indicator of budget. \n",
    "\n",
    "So we can first calculate how large a difference there is between the actual revenues of our movies, and what our regression line predicts."
   ]
  },
  {
   "cell_type": "markdown",
   "metadata": {},
   "source": [
    "![](./actualexpected.png)"
   ]
  },
  {
   "cell_type": "markdown",
   "metadata": {},
   "source": [
    "And we can then change our regression line -- for example, by tilting it further forwards or backwards -- to reduce the amount of these errors.  That is training our regression model calculating the errors from a given line is -- and then altering that line to reduce these errors.   "
   ]
  },
  {
   "cell_type": "markdown",
   "metadata": {},
   "source": [
    "### Predict new data"
   ]
  },
  {
   "cell_type": "markdown",
   "metadata": {},
   "source": [
    "Once we have trained our model to reflect our previous data.  Now we can see draw predictions about future movies from this model.  If we have the movie's budget, we can simply see what the model predicts.  We simply look to our regression line to input a budget and see what it outputs as the expected revenue."
   ]
  },
  {
   "cell_type": "markdown",
   "metadata": {},
   "source": [
    "There are many questions we did not answer from this...\n",
    "\n"
   ]
  },
  {
   "cell_type": "code",
   "execution_count": null,
   "metadata": {
    "collapsed": true
   },
   "outputs": [],
   "source": []
  }
 ],
 "metadata": {
  "kernelspec": {
   "display_name": "Python 3",
   "language": "python",
   "name": "python3"
  },
  "language_info": {
   "codemirror_mode": {
    "name": "ipython",
    "version": 3
   },
   "file_extension": ".py",
   "mimetype": "text/x-python",
   "name": "python",
   "nbconvert_exporter": "python",
   "pygments_lexer": "ipython3",
   "version": "3.6.1"
  }
 },
 "nbformat": 4,
 "nbformat_minor": 2
}
